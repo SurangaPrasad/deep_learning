{
  "cells": [
    {
      "cell_type": "markdown",
      "metadata": {
        "id": "view-in-github",
        "colab_type": "text"
      },
      "source": [
        "<a href=\"https://colab.research.google.com/github/SurangaPrasad/deep_learning/blob/main/transfer_learning_v1_0.ipynb\" target=\"_parent\"><img src=\"https://colab.research.google.com/assets/colab-badge.svg\" alt=\"Open In Colab\"/></a>"
      ]
    },
    {
      "cell_type": "markdown",
      "metadata": {
        "id": "XcHMeYi4SEGp"
      },
      "source": [
        "### 1. Geting the setup (import libraries and setup device agnostic code)"
      ]
    },
    {
      "cell_type": "code",
      "execution_count": 2,
      "metadata": {
        "colab": {
          "base_uri": "https://localhost:8080/",
          "height": 35
        },
        "id": "U7jWwu3gRv5H",
        "outputId": "b08b6df2-534d-4fb8-f658-44c23cdfcfe5"
      },
      "outputs": [
        {
          "output_type": "execute_result",
          "data": {
            "text/plain": [
              "'2.1.0+cu121'"
            ],
            "application/vnd.google.colaboratory.intrinsic+json": {
              "type": "string"
            }
          },
          "metadata": {},
          "execution_count": 2
        }
      ],
      "source": [
        "import torch\n",
        "import torchvision\n",
        "from torch import nn\n",
        "from torchvision import transforms\n",
        "\n",
        "# get the torch version\n",
        "torch.__version__"
      ]
    },
    {
      "cell_type": "code",
      "execution_count": 3,
      "metadata": {
        "colab": {
          "base_uri": "https://localhost:8080/"
        },
        "id": "r4G1CdVYSBG6",
        "outputId": "2fd973e7-9784-4f0f-9e34-154f61636e85"
      },
      "outputs": [
        {
          "output_type": "stream",
          "name": "stdout",
          "text": [
            "The selected device is cuda\n"
          ]
        }
      ],
      "source": [
        "# set the device agnostic code\n",
        "device = \"cuda\" if torch.cuda.is_available() else \"cpu\"\n",
        "print(f\"The selected device is {device}\")"
      ]
    },
    {
      "cell_type": "markdown",
      "metadata": {
        "id": "fEl8Irs_TOOq"
      },
      "source": [
        "### 2. Get data and split them to test, train and validation sets\n",
        "\n",
        "Getting data from miniImageNet (https://drive.google.com/drive/folders/17a09kkqVivZQFggCw9I_YboJ23tcexNM)"
      ]
    },
    {
      "cell_type": "code",
      "execution_count": 4,
      "metadata": {
        "id": "qZNHswqrW43i"
      },
      "outputs": [],
      "source": [
        "import os\n",
        "import gdown\n",
        "from pathlib import Path\n",
        "import requests\n",
        "import tarfile\n",
        "import zipfile"
      ]
    },
    {
      "cell_type": "code",
      "execution_count": 5,
      "metadata": {
        "id": "6Bj6XRgnat1r"
      },
      "outputs": [],
      "source": [
        "def download_and_extract(data_path,image_path, url, downlod_file_name, zip_file: bool=True):\n",
        "  # Setup path to data folder\n",
        "\n",
        "  # If the image folder doesn't exist, download it and prepare it...\n",
        "  if image_path.is_dir():\n",
        "      print(f\"{image_path} directory exists.\")\n",
        "  else:\n",
        "      print(f\"Did not find {image_path} directory, creating one...\")\n",
        "      image_path.mkdir(parents=True, exist_ok=True)\n",
        "\n",
        "      if zip_file:\n",
        "        # Download zip file\n",
        "        with open(data_path / downlod_file_name, \"wb\") as f:\n",
        "            request = requests.get(url, verify=False)\n",
        "            print(\"Downloading zip file...\")\n",
        "            f.write(request.content)\n",
        "\n",
        "        # Unzip zip file\n",
        "        with zipfile.ZipFile(data_path / downlod_file_name, \"r\") as zip_ref:\n",
        "            print(\"Unzipping zip file...\")\n",
        "            zip_ref.extractall(image_path)\n",
        "\n",
        "        # Remove .zip file\n",
        "        os.remove(data_path / downlod_file_name)\n",
        "\n",
        "      else:\n",
        "        # Download the tar file\n",
        "        with open(data_path / downlod_file_name, \"wb\") as f:\n",
        "            request = requests.get(url)\n",
        "            print(\"Downloading tar file ...\")\n",
        "            f.write(request.content)\n",
        "\n",
        "        # Unzip mini tar file\n",
        "        with tarfile.open(data_path / downlod_file_name, \"r\") as tar:\n",
        "            print(\"Unzipping tar file...\")\n",
        "            tar.extractall(image_path)\n",
        "\n",
        "        # Remove .tar file\n",
        "        os.remove(data_path / downlod_file_name)"
      ]
    },
    {
      "cell_type": "code",
      "execution_count": 6,
      "metadata": {
        "colab": {
          "base_uri": "https://localhost:8080/"
        },
        "id": "HO0RMyqnwR1e",
        "outputId": "02ba51b7-f095-43b6-8888-7978777a6c38"
      },
      "outputs": [
        {
          "output_type": "stream",
          "name": "stdout",
          "text": [
            "Did not find data/mini_image_net directory, creating one...\n",
            "Downloading tar file ...\n",
            "Unzipping tar file...\n"
          ]
        }
      ],
      "source": [
        "data_path = Path(\"data/\")\n",
        "image_path = data_path / \"mini_image_net\"\n",
        "\n",
        "url = 'https://drive.usercontent.google.com/download?id=107FTosYIeBn5QbynR46YG91nHcJ70whs&export=download&authuser=0&confirm=t&uuid=60b63e1a-f494-4f24-bdb1-b55131562a39&at=APZUnTVF0wI3FBlvrHXL3r-PlZjg:1704103333738'\n",
        "\n",
        "download_and_extract(data_path, image_path, url,\"mini_image_net.tar\",False)"
      ]
    },
    {
      "cell_type": "markdown",
      "metadata": {
        "id": "v6Uq28t0z5nW"
      },
      "source": [
        "### 3. Create Datasets and DataLoaders\n",
        "\n",
        "3.1 Creating a transform for torchvision.models (auto creation)"
      ]
    },
    {
      "cell_type": "code",
      "execution_count": 7,
      "metadata": {
        "colab": {
          "base_uri": "https://localhost:8080/"
        },
        "id": "Fho3hNrKy8OB",
        "outputId": "fdfab4b0-b1a3-44d7-c3e7-0d39fde510a5"
      },
      "outputs": [
        {
          "output_type": "execute_result",
          "data": {
            "text/plain": [
              "ImageClassification(\n",
              "    crop_size=[224]\n",
              "    resize_size=[256]\n",
              "    mean=[0.485, 0.456, 0.406]\n",
              "    std=[0.229, 0.224, 0.225]\n",
              "    interpolation=InterpolationMode.BILINEAR\n",
              ")"
            ]
          },
          "metadata": {},
          "execution_count": 7
        }
      ],
      "source": [
        "## geting the weight of pretrained model\n",
        "weights = torchvision.models.ResNet18_Weights.DEFAULT\n",
        "\n",
        "# Get the transforms used to create our pretrained weights\n",
        "auto_transforms = weights.transforms()\n",
        "auto_transforms"
      ]
    },
    {
      "cell_type": "code",
      "execution_count": 8,
      "metadata": {
        "id": "zVKvl-FIWaPn"
      },
      "outputs": [],
      "source": [
        "import os\n",
        "\n",
        "from torchvision import datasets, transforms\n",
        "from torch.utils.data import DataLoader\n",
        "\n",
        "NUM_WORKERS = os.cpu_count()\n",
        "\n",
        "def create_dataloaders(\n",
        "    train_data,\n",
        "    test_data,\n",
        "    val_data,\n",
        "    transform: transforms.Compose,\n",
        "    batch_size: int,\n",
        "    num_workers: int=NUM_WORKERS\n",
        "):\n",
        "\n",
        "  # Turn images into data loaders\n",
        "  train_dataloader = torch.utils.data.DataLoader(\n",
        "      train_data,\n",
        "      batch_size=batch_size,\n",
        "      shuffle=True,\n",
        "      num_workers=num_workers,\n",
        "      pin_memory=True,\n",
        "  )\n",
        "  test_dataloader = torch.utils.data.DataLoader(\n",
        "      test_data,\n",
        "      batch_size=batch_size,\n",
        "      shuffle=False, # don't need to shuffle test data\n",
        "      num_workers=num_workers,\n",
        "      pin_memory=True,\n",
        "  )\n",
        "  valid_dataloader = torch.utils.data.DataLoader(\n",
        "      val_data,\n",
        "      batch_size=batch_size,\n",
        "      shuffle=False, # don't need to shuffle test data\n",
        "      num_workers=num_workers,\n",
        "      pin_memory=True,\n",
        "  )\n",
        "\n",
        "  return train_dataloader, test_dataloader, valid_dataloader"
      ]
    },
    {
      "cell_type": "code",
      "execution_count": 9,
      "metadata": {
        "id": "tgdrpaW_dfhK"
      },
      "outputs": [],
      "source": [
        "#Splitting data in to train, test and validation\n",
        "originalDataset = torchvision.datasets.ImageFolder(image_path/ \"train\", transform = auto_transforms)\n",
        "#len(originalDataset)\n",
        "\n",
        "random_gen = torch.Generator().manual_seed(42)\n",
        "\n",
        "test_data, train_data, val_data = torch.utils.data.random_split(originalDataset, [0.8, 0.1, 0.1] , generator=random_gen)\n",
        "\n",
        "#getting classess\n",
        "class_names = originalDataset.classes\n"
      ]
    },
    {
      "cell_type": "code",
      "execution_count": 10,
      "metadata": {
        "colab": {
          "base_uri": "https://localhost:8080/"
        },
        "id": "YRLC6cB7P2HI",
        "outputId": "af4afa37-b492-4e9f-8cb9-501d7e6d6e19"
      },
      "outputs": [
        {
          "output_type": "execute_result",
          "data": {
            "text/plain": [
              "(<torch.utils.data.dataloader.DataLoader at 0x7908c52a2980>,\n",
              " <torch.utils.data.dataloader.DataLoader at 0x7908c52a3be0>,\n",
              " <torch.utils.data.dataloader.DataLoader at 0x7908c52a2830>)"
            ]
          },
          "metadata": {},
          "execution_count": 10
        }
      ],
      "source": [
        "# Create training, testing and validation DataLoaders\n",
        "train_dataloader, test_dataloader,valid_dataloader = create_dataloaders(train_data,\n",
        "                                                                               test_data,\n",
        "                                                                               val_data,\n",
        "                                                                               transform=auto_transforms, # perform same data transforms on our own data as the pretrained model\n",
        "                                                                               batch_size=32) # set mini-batch size to 32\n",
        "\n",
        "train_dataloader, test_dataloader, valid_dataloader"
      ]
    },
    {
      "cell_type": "markdown",
      "metadata": {
        "id": "e0CnBYzTmYyt"
      },
      "source": [
        "### 4. Getting a pretrained model\n",
        "\n",
        "Earlier we got the weight for ***resnet18*** model. So let's import the same model from [`torchvision.models`](https://pytorch.org/vision/stable/models.html#classification)."
      ]
    },
    {
      "cell_type": "code",
      "execution_count": 31,
      "metadata": {
        "id": "mlAJDJu0modR"
      },
      "outputs": [],
      "source": [
        "model = torchvision.models.resnet18(weights, progress = True)"
      ]
    },
    {
      "cell_type": "code",
      "execution_count": 12,
      "metadata": {
        "colab": {
          "base_uri": "https://localhost:8080/"
        },
        "id": "Cjg2vjjGTCCJ",
        "outputId": "4153e646-2ce8-4db8-b9d6-730523de0161"
      },
      "outputs": [
        {
          "output_type": "stream",
          "name": "stdout",
          "text": [
            "Collecting torchinfo\n",
            "  Downloading torchinfo-1.8.0-py3-none-any.whl (23 kB)\n",
            "Installing collected packages: torchinfo\n",
            "Successfully installed torchinfo-1.8.0\n"
          ]
        }
      ],
      "source": [
        "#install torchinfo if it is not installed yet\n",
        "\n",
        "!pip install torchinfo\n"
      ]
    },
    {
      "cell_type": "code",
      "execution_count": 32,
      "metadata": {
        "colab": {
          "base_uri": "https://localhost:8080/"
        },
        "id": "xLXlvbosUP7y",
        "outputId": "b3fe1371-9446-4cfc-815c-e284c138387f"
      },
      "outputs": [
        {
          "output_type": "execute_result",
          "data": {
            "text/plain": [
              "========================================================================================================================\n",
              "Layer (type (var_name))                  Input Shape          Output Shape         Param #              Trainable\n",
              "========================================================================================================================\n",
              "ResNet (ResNet)                          [32, 3, 224, 224]    [32, 1000]           --                   True\n",
              "├─Conv2d (conv1)                         [32, 3, 224, 224]    [32, 64, 112, 112]   9,408                True\n",
              "├─BatchNorm2d (bn1)                      [32, 64, 112, 112]   [32, 64, 112, 112]   128                  True\n",
              "├─ReLU (relu)                            [32, 64, 112, 112]   [32, 64, 112, 112]   --                   --\n",
              "├─MaxPool2d (maxpool)                    [32, 64, 112, 112]   [32, 64, 56, 56]     --                   --\n",
              "├─Sequential (layer1)                    [32, 64, 56, 56]     [32, 64, 56, 56]     --                   True\n",
              "│    └─BasicBlock (0)                    [32, 64, 56, 56]     [32, 64, 56, 56]     --                   True\n",
              "│    │    └─Conv2d (conv1)               [32, 64, 56, 56]     [32, 64, 56, 56]     36,864               True\n",
              "│    │    └─BatchNorm2d (bn1)            [32, 64, 56, 56]     [32, 64, 56, 56]     128                  True\n",
              "│    │    └─ReLU (relu)                  [32, 64, 56, 56]     [32, 64, 56, 56]     --                   --\n",
              "│    │    └─Conv2d (conv2)               [32, 64, 56, 56]     [32, 64, 56, 56]     36,864               True\n",
              "│    │    └─BatchNorm2d (bn2)            [32, 64, 56, 56]     [32, 64, 56, 56]     128                  True\n",
              "│    │    └─ReLU (relu)                  [32, 64, 56, 56]     [32, 64, 56, 56]     --                   --\n",
              "│    └─BasicBlock (1)                    [32, 64, 56, 56]     [32, 64, 56, 56]     --                   True\n",
              "│    │    └─Conv2d (conv1)               [32, 64, 56, 56]     [32, 64, 56, 56]     36,864               True\n",
              "│    │    └─BatchNorm2d (bn1)            [32, 64, 56, 56]     [32, 64, 56, 56]     128                  True\n",
              "│    │    └─ReLU (relu)                  [32, 64, 56, 56]     [32, 64, 56, 56]     --                   --\n",
              "│    │    └─Conv2d (conv2)               [32, 64, 56, 56]     [32, 64, 56, 56]     36,864               True\n",
              "│    │    └─BatchNorm2d (bn2)            [32, 64, 56, 56]     [32, 64, 56, 56]     128                  True\n",
              "│    │    └─ReLU (relu)                  [32, 64, 56, 56]     [32, 64, 56, 56]     --                   --\n",
              "├─Sequential (layer2)                    [32, 64, 56, 56]     [32, 128, 28, 28]    --                   True\n",
              "│    └─BasicBlock (0)                    [32, 64, 56, 56]     [32, 128, 28, 28]    --                   True\n",
              "│    │    └─Conv2d (conv1)               [32, 64, 56, 56]     [32, 128, 28, 28]    73,728               True\n",
              "│    │    └─BatchNorm2d (bn1)            [32, 128, 28, 28]    [32, 128, 28, 28]    256                  True\n",
              "│    │    └─ReLU (relu)                  [32, 128, 28, 28]    [32, 128, 28, 28]    --                   --\n",
              "│    │    └─Conv2d (conv2)               [32, 128, 28, 28]    [32, 128, 28, 28]    147,456              True\n",
              "│    │    └─BatchNorm2d (bn2)            [32, 128, 28, 28]    [32, 128, 28, 28]    256                  True\n",
              "│    │    └─Sequential (downsample)      [32, 64, 56, 56]     [32, 128, 28, 28]    8,448                True\n",
              "│    │    └─ReLU (relu)                  [32, 128, 28, 28]    [32, 128, 28, 28]    --                   --\n",
              "│    └─BasicBlock (1)                    [32, 128, 28, 28]    [32, 128, 28, 28]    --                   True\n",
              "│    │    └─Conv2d (conv1)               [32, 128, 28, 28]    [32, 128, 28, 28]    147,456              True\n",
              "│    │    └─BatchNorm2d (bn1)            [32, 128, 28, 28]    [32, 128, 28, 28]    256                  True\n",
              "│    │    └─ReLU (relu)                  [32, 128, 28, 28]    [32, 128, 28, 28]    --                   --\n",
              "│    │    └─Conv2d (conv2)               [32, 128, 28, 28]    [32, 128, 28, 28]    147,456              True\n",
              "│    │    └─BatchNorm2d (bn2)            [32, 128, 28, 28]    [32, 128, 28, 28]    256                  True\n",
              "│    │    └─ReLU (relu)                  [32, 128, 28, 28]    [32, 128, 28, 28]    --                   --\n",
              "├─Sequential (layer3)                    [32, 128, 28, 28]    [32, 256, 14, 14]    --                   True\n",
              "│    └─BasicBlock (0)                    [32, 128, 28, 28]    [32, 256, 14, 14]    --                   True\n",
              "│    │    └─Conv2d (conv1)               [32, 128, 28, 28]    [32, 256, 14, 14]    294,912              True\n",
              "│    │    └─BatchNorm2d (bn1)            [32, 256, 14, 14]    [32, 256, 14, 14]    512                  True\n",
              "│    │    └─ReLU (relu)                  [32, 256, 14, 14]    [32, 256, 14, 14]    --                   --\n",
              "│    │    └─Conv2d (conv2)               [32, 256, 14, 14]    [32, 256, 14, 14]    589,824              True\n",
              "│    │    └─BatchNorm2d (bn2)            [32, 256, 14, 14]    [32, 256, 14, 14]    512                  True\n",
              "│    │    └─Sequential (downsample)      [32, 128, 28, 28]    [32, 256, 14, 14]    33,280               True\n",
              "│    │    └─ReLU (relu)                  [32, 256, 14, 14]    [32, 256, 14, 14]    --                   --\n",
              "│    └─BasicBlock (1)                    [32, 256, 14, 14]    [32, 256, 14, 14]    --                   True\n",
              "│    │    └─Conv2d (conv1)               [32, 256, 14, 14]    [32, 256, 14, 14]    589,824              True\n",
              "│    │    └─BatchNorm2d (bn1)            [32, 256, 14, 14]    [32, 256, 14, 14]    512                  True\n",
              "│    │    └─ReLU (relu)                  [32, 256, 14, 14]    [32, 256, 14, 14]    --                   --\n",
              "│    │    └─Conv2d (conv2)               [32, 256, 14, 14]    [32, 256, 14, 14]    589,824              True\n",
              "│    │    └─BatchNorm2d (bn2)            [32, 256, 14, 14]    [32, 256, 14, 14]    512                  True\n",
              "│    │    └─ReLU (relu)                  [32, 256, 14, 14]    [32, 256, 14, 14]    --                   --\n",
              "├─Sequential (layer4)                    [32, 256, 14, 14]    [32, 512, 7, 7]      --                   True\n",
              "│    └─BasicBlock (0)                    [32, 256, 14, 14]    [32, 512, 7, 7]      --                   True\n",
              "│    │    └─Conv2d (conv1)               [32, 256, 14, 14]    [32, 512, 7, 7]      1,179,648            True\n",
              "│    │    └─BatchNorm2d (bn1)            [32, 512, 7, 7]      [32, 512, 7, 7]      1,024                True\n",
              "│    │    └─ReLU (relu)                  [32, 512, 7, 7]      [32, 512, 7, 7]      --                   --\n",
              "│    │    └─Conv2d (conv2)               [32, 512, 7, 7]      [32, 512, 7, 7]      2,359,296            True\n",
              "│    │    └─BatchNorm2d (bn2)            [32, 512, 7, 7]      [32, 512, 7, 7]      1,024                True\n",
              "│    │    └─Sequential (downsample)      [32, 256, 14, 14]    [32, 512, 7, 7]      132,096              True\n",
              "│    │    └─ReLU (relu)                  [32, 512, 7, 7]      [32, 512, 7, 7]      --                   --\n",
              "│    └─BasicBlock (1)                    [32, 512, 7, 7]      [32, 512, 7, 7]      --                   True\n",
              "│    │    └─Conv2d (conv1)               [32, 512, 7, 7]      [32, 512, 7, 7]      2,359,296            True\n",
              "│    │    └─BatchNorm2d (bn1)            [32, 512, 7, 7]      [32, 512, 7, 7]      1,024                True\n",
              "│    │    └─ReLU (relu)                  [32, 512, 7, 7]      [32, 512, 7, 7]      --                   --\n",
              "│    │    └─Conv2d (conv2)               [32, 512, 7, 7]      [32, 512, 7, 7]      2,359,296            True\n",
              "│    │    └─BatchNorm2d (bn2)            [32, 512, 7, 7]      [32, 512, 7, 7]      1,024                True\n",
              "│    │    └─ReLU (relu)                  [32, 512, 7, 7]      [32, 512, 7, 7]      --                   --\n",
              "├─AdaptiveAvgPool2d (avgpool)            [32, 512, 7, 7]      [32, 512, 1, 1]      --                   --\n",
              "├─Linear (fc)                            [32, 512]            [32, 1000]           513,000              True\n",
              "========================================================================================================================\n",
              "Total params: 11,689,512\n",
              "Trainable params: 11,689,512\n",
              "Non-trainable params: 0\n",
              "Total mult-adds (G): 58.05\n",
              "========================================================================================================================\n",
              "Input size (MB): 19.27\n",
              "Forward/backward pass size (MB): 1271.92\n",
              "Params size (MB): 46.76\n",
              "Estimated Total Size (MB): 1337.94\n",
              "========================================================================================================================"
            ]
          },
          "metadata": {},
          "execution_count": 32
        }
      ],
      "source": [
        "import torchinfo\n",
        "torchinfo.summary(model,\n",
        "                  input_size = [32, 3, 224, 224],\n",
        "                  verbose=0,\n",
        "                  col_names=[\"input_size\", \"output_size\", \"num_params\", \"trainable\"],\n",
        "                  col_width=20,\n",
        "                  row_settings=[\"var_names\"])"
      ]
    },
    {
      "cell_type": "markdown",
      "metadata": {
        "id": "6fz7XTiYeY8w"
      },
      "source": [
        "### 5. Freezing the base model and changing the output layer"
      ]
    },
    {
      "cell_type": "code",
      "execution_count": 33,
      "metadata": {
        "id": "gjrfzWg3Xryn"
      },
      "outputs": [],
      "source": [
        "#Freezing parameters\n",
        "for param in model.parameters():\n",
        "    param.requires_grad = False"
      ]
    },
    {
      "cell_type": "markdown",
      "metadata": {
        "id": "xiWbEqipopiv"
      },
      "source": [
        "Now we can set the output layer according to the number of classes in the EuroSat data set"
      ]
    },
    {
      "cell_type": "code",
      "execution_count": 34,
      "metadata": {
        "id": "SjPlAP3NoxmG"
      },
      "outputs": [],
      "source": [
        "# output_shape = len(eurosat_dataset.classes)\n",
        "output_shape = len(originalDataset.classes)"
      ]
    },
    {
      "cell_type": "code",
      "execution_count": 35,
      "metadata": {
        "id": "fGp3VEgCpCB9"
      },
      "outputs": [],
      "source": [
        "# Set the manual seeds\n",
        "torch.manual_seed(42)\n",
        "torch.cuda.manual_seed(42)\n",
        "\n",
        "# Recreate the fc layer and seed it to the target device\n",
        "model.fc = torch.nn.Linear(in_features=512,\n",
        "                           out_features=output_shape, # same number of output units as our number of classes\n",
        "                           bias=True).to(device)"
      ]
    },
    {
      "cell_type": "markdown",
      "metadata": {
        "id": "GOhinbN-qqg1"
      },
      "source": [
        "Now let's see the summary again"
      ]
    },
    {
      "cell_type": "code",
      "execution_count": 36,
      "metadata": {
        "colab": {
          "base_uri": "https://localhost:8080/"
        },
        "id": "Wu0rsqC5qq7e",
        "outputId": "6ac1c933-db46-4372-ff51-5fc1c49fbf93"
      },
      "outputs": [
        {
          "output_type": "execute_result",
          "data": {
            "text/plain": [
              "========================================================================================================================\n",
              "Layer (type (var_name))                  Input Shape          Output Shape         Param #              Trainable\n",
              "========================================================================================================================\n",
              "ResNet (ResNet)                          [32, 3, 224, 224]    [32, 64]             --                   Partial\n",
              "├─Conv2d (conv1)                         [32, 3, 224, 224]    [32, 64, 112, 112]   (9,408)              False\n",
              "├─BatchNorm2d (bn1)                      [32, 64, 112, 112]   [32, 64, 112, 112]   (128)                False\n",
              "├─ReLU (relu)                            [32, 64, 112, 112]   [32, 64, 112, 112]   --                   --\n",
              "├─MaxPool2d (maxpool)                    [32, 64, 112, 112]   [32, 64, 56, 56]     --                   --\n",
              "├─Sequential (layer1)                    [32, 64, 56, 56]     [32, 64, 56, 56]     --                   False\n",
              "│    └─BasicBlock (0)                    [32, 64, 56, 56]     [32, 64, 56, 56]     --                   False\n",
              "│    │    └─Conv2d (conv1)               [32, 64, 56, 56]     [32, 64, 56, 56]     (36,864)             False\n",
              "│    │    └─BatchNorm2d (bn1)            [32, 64, 56, 56]     [32, 64, 56, 56]     (128)                False\n",
              "│    │    └─ReLU (relu)                  [32, 64, 56, 56]     [32, 64, 56, 56]     --                   --\n",
              "│    │    └─Conv2d (conv2)               [32, 64, 56, 56]     [32, 64, 56, 56]     (36,864)             False\n",
              "│    │    └─BatchNorm2d (bn2)            [32, 64, 56, 56]     [32, 64, 56, 56]     (128)                False\n",
              "│    │    └─ReLU (relu)                  [32, 64, 56, 56]     [32, 64, 56, 56]     --                   --\n",
              "│    └─BasicBlock (1)                    [32, 64, 56, 56]     [32, 64, 56, 56]     --                   False\n",
              "│    │    └─Conv2d (conv1)               [32, 64, 56, 56]     [32, 64, 56, 56]     (36,864)             False\n",
              "│    │    └─BatchNorm2d (bn1)            [32, 64, 56, 56]     [32, 64, 56, 56]     (128)                False\n",
              "│    │    └─ReLU (relu)                  [32, 64, 56, 56]     [32, 64, 56, 56]     --                   --\n",
              "│    │    └─Conv2d (conv2)               [32, 64, 56, 56]     [32, 64, 56, 56]     (36,864)             False\n",
              "│    │    └─BatchNorm2d (bn2)            [32, 64, 56, 56]     [32, 64, 56, 56]     (128)                False\n",
              "│    │    └─ReLU (relu)                  [32, 64, 56, 56]     [32, 64, 56, 56]     --                   --\n",
              "├─Sequential (layer2)                    [32, 64, 56, 56]     [32, 128, 28, 28]    --                   False\n",
              "│    └─BasicBlock (0)                    [32, 64, 56, 56]     [32, 128, 28, 28]    --                   False\n",
              "│    │    └─Conv2d (conv1)               [32, 64, 56, 56]     [32, 128, 28, 28]    (73,728)             False\n",
              "│    │    └─BatchNorm2d (bn1)            [32, 128, 28, 28]    [32, 128, 28, 28]    (256)                False\n",
              "│    │    └─ReLU (relu)                  [32, 128, 28, 28]    [32, 128, 28, 28]    --                   --\n",
              "│    │    └─Conv2d (conv2)               [32, 128, 28, 28]    [32, 128, 28, 28]    (147,456)            False\n",
              "│    │    └─BatchNorm2d (bn2)            [32, 128, 28, 28]    [32, 128, 28, 28]    (256)                False\n",
              "│    │    └─Sequential (downsample)      [32, 64, 56, 56]     [32, 128, 28, 28]    (8,448)              False\n",
              "│    │    └─ReLU (relu)                  [32, 128, 28, 28]    [32, 128, 28, 28]    --                   --\n",
              "│    └─BasicBlock (1)                    [32, 128, 28, 28]    [32, 128, 28, 28]    --                   False\n",
              "│    │    └─Conv2d (conv1)               [32, 128, 28, 28]    [32, 128, 28, 28]    (147,456)            False\n",
              "│    │    └─BatchNorm2d (bn1)            [32, 128, 28, 28]    [32, 128, 28, 28]    (256)                False\n",
              "│    │    └─ReLU (relu)                  [32, 128, 28, 28]    [32, 128, 28, 28]    --                   --\n",
              "│    │    └─Conv2d (conv2)               [32, 128, 28, 28]    [32, 128, 28, 28]    (147,456)            False\n",
              "│    │    └─BatchNorm2d (bn2)            [32, 128, 28, 28]    [32, 128, 28, 28]    (256)                False\n",
              "│    │    └─ReLU (relu)                  [32, 128, 28, 28]    [32, 128, 28, 28]    --                   --\n",
              "├─Sequential (layer3)                    [32, 128, 28, 28]    [32, 256, 14, 14]    --                   False\n",
              "│    └─BasicBlock (0)                    [32, 128, 28, 28]    [32, 256, 14, 14]    --                   False\n",
              "│    │    └─Conv2d (conv1)               [32, 128, 28, 28]    [32, 256, 14, 14]    (294,912)            False\n",
              "│    │    └─BatchNorm2d (bn1)            [32, 256, 14, 14]    [32, 256, 14, 14]    (512)                False\n",
              "│    │    └─ReLU (relu)                  [32, 256, 14, 14]    [32, 256, 14, 14]    --                   --\n",
              "│    │    └─Conv2d (conv2)               [32, 256, 14, 14]    [32, 256, 14, 14]    (589,824)            False\n",
              "│    │    └─BatchNorm2d (bn2)            [32, 256, 14, 14]    [32, 256, 14, 14]    (512)                False\n",
              "│    │    └─Sequential (downsample)      [32, 128, 28, 28]    [32, 256, 14, 14]    (33,280)             False\n",
              "│    │    └─ReLU (relu)                  [32, 256, 14, 14]    [32, 256, 14, 14]    --                   --\n",
              "│    └─BasicBlock (1)                    [32, 256, 14, 14]    [32, 256, 14, 14]    --                   False\n",
              "│    │    └─Conv2d (conv1)               [32, 256, 14, 14]    [32, 256, 14, 14]    (589,824)            False\n",
              "│    │    └─BatchNorm2d (bn1)            [32, 256, 14, 14]    [32, 256, 14, 14]    (512)                False\n",
              "│    │    └─ReLU (relu)                  [32, 256, 14, 14]    [32, 256, 14, 14]    --                   --\n",
              "│    │    └─Conv2d (conv2)               [32, 256, 14, 14]    [32, 256, 14, 14]    (589,824)            False\n",
              "│    │    └─BatchNorm2d (bn2)            [32, 256, 14, 14]    [32, 256, 14, 14]    (512)                False\n",
              "│    │    └─ReLU (relu)                  [32, 256, 14, 14]    [32, 256, 14, 14]    --                   --\n",
              "├─Sequential (layer4)                    [32, 256, 14, 14]    [32, 512, 7, 7]      --                   False\n",
              "│    └─BasicBlock (0)                    [32, 256, 14, 14]    [32, 512, 7, 7]      --                   False\n",
              "│    │    └─Conv2d (conv1)               [32, 256, 14, 14]    [32, 512, 7, 7]      (1,179,648)          False\n",
              "│    │    └─BatchNorm2d (bn1)            [32, 512, 7, 7]      [32, 512, 7, 7]      (1,024)              False\n",
              "│    │    └─ReLU (relu)                  [32, 512, 7, 7]      [32, 512, 7, 7]      --                   --\n",
              "│    │    └─Conv2d (conv2)               [32, 512, 7, 7]      [32, 512, 7, 7]      (2,359,296)          False\n",
              "│    │    └─BatchNorm2d (bn2)            [32, 512, 7, 7]      [32, 512, 7, 7]      (1,024)              False\n",
              "│    │    └─Sequential (downsample)      [32, 256, 14, 14]    [32, 512, 7, 7]      (132,096)            False\n",
              "│    │    └─ReLU (relu)                  [32, 512, 7, 7]      [32, 512, 7, 7]      --                   --\n",
              "│    └─BasicBlock (1)                    [32, 512, 7, 7]      [32, 512, 7, 7]      --                   False\n",
              "│    │    └─Conv2d (conv1)               [32, 512, 7, 7]      [32, 512, 7, 7]      (2,359,296)          False\n",
              "│    │    └─BatchNorm2d (bn1)            [32, 512, 7, 7]      [32, 512, 7, 7]      (1,024)              False\n",
              "│    │    └─ReLU (relu)                  [32, 512, 7, 7]      [32, 512, 7, 7]      --                   --\n",
              "│    │    └─Conv2d (conv2)               [32, 512, 7, 7]      [32, 512, 7, 7]      (2,359,296)          False\n",
              "│    │    └─BatchNorm2d (bn2)            [32, 512, 7, 7]      [32, 512, 7, 7]      (1,024)              False\n",
              "│    │    └─ReLU (relu)                  [32, 512, 7, 7]      [32, 512, 7, 7]      --                   --\n",
              "├─AdaptiveAvgPool2d (avgpool)            [32, 512, 7, 7]      [32, 512, 1, 1]      --                   --\n",
              "├─Linear (fc)                            [32, 512]            [32, 64]             32,832               True\n",
              "========================================================================================================================\n",
              "Total params: 11,209,344\n",
              "Trainable params: 32,832\n",
              "Non-trainable params: 11,176,512\n",
              "Total mult-adds (G): 58.04\n",
              "========================================================================================================================\n",
              "Input size (MB): 19.27\n",
              "Forward/backward pass size (MB): 1271.68\n",
              "Params size (MB): 44.84\n",
              "Estimated Total Size (MB): 1335.78\n",
              "========================================================================================================================"
            ]
          },
          "metadata": {},
          "execution_count": 36
        }
      ],
      "source": [
        "torchinfo.summary(model,\n",
        "                  input_size = [32, 3, 224, 224],\n",
        "                  verbose=0,\n",
        "                  col_names=[\"input_size\", \"output_size\", \"num_params\", \"trainable\"],\n",
        "                  col_width=20,\n",
        "                  row_settings=[\"var_names\"])"
      ]
    },
    {
      "cell_type": "markdown",
      "metadata": {
        "id": "KkVV2G8quIt9"
      },
      "source": [
        "### 6. Model training\n",
        "\n",
        "Since this is a multiclass classification problem, we can use nn.CrossEntropyLoss() and we use torch.optim.Adam() as our optimizer with lr=0.001"
      ]
    },
    {
      "cell_type": "code",
      "execution_count": 37,
      "metadata": {
        "id": "AExlN8JQuFP5"
      },
      "outputs": [],
      "source": [
        "# Define loss and optimizer\n",
        "loss_function = nn.CrossEntropyLoss()\n",
        "optimizer = torch.optim.Adam(model.parameters(), lr=0.001)"
      ]
    },
    {
      "cell_type": "code",
      "execution_count": 38,
      "metadata": {
        "id": "KV3JaaU6MZ7M"
      },
      "outputs": [],
      "source": [
        "# evaluation function\n",
        "def eval(net, data_loader):\n",
        "    use_cuda = torch.cuda.is_available()\n",
        "    if use_cuda:\n",
        "        net = net.cuda()\n",
        "    net.eval()\n",
        "    correct = 0.0\n",
        "    num_images = 0.0\n",
        "    for i_batch, (images, labels) in enumerate(data_loader):\n",
        "        if use_cuda:\n",
        "            images = images.cuda()\n",
        "            labels = labels.cuda()\n",
        "        outs = net(images)\n",
        "\n",
        "        loss = loss_function(outs, labels)\n",
        "#         _, preds = outs.max(1)\n",
        "        preds = outs.argmax(dim=1)\n",
        "        correct += preds.eq(labels).sum()\n",
        "        num_images += len(labels)\n",
        "\n",
        "    acc = correct / num_images\n",
        "    return acc , loss\n",
        "\n",
        "# training function\n",
        "def train(net, train_loader, valid_loader, loss_function, optimizer, epoches):\n",
        "\n",
        "    use_cuda = torch.cuda.is_available()\n",
        "    if use_cuda:\n",
        "        net = net.cuda()\n",
        "\n",
        "    # Create empty results dictionary\n",
        "    train_val_results = {\"train_loss\": [],\n",
        "                         \"train_acc\": [],\n",
        "                         \"val_loss\": [],\n",
        "                         \"val_acc\":[]\n",
        "                        }\n",
        "\n",
        "    for epoch in range(epoches):\n",
        "        net.train()\n",
        "        correct = 0.0 # used to accumulate number of correctly recognized images\n",
        "        num_images = 0.0 # used to accumulate number of images\n",
        "        for i_batch, (images, labels) in enumerate(train_loader):\n",
        "            if use_cuda:\n",
        "                images = images.cuda()\n",
        "                labels = labels.cuda()\n",
        "\n",
        "            # forward propagation\n",
        "            outs = net(images)\n",
        "            # backward propagation\n",
        "            loss = loss_function(outs, labels)\n",
        "            loss.backward()\n",
        "            # calculating the accuracy\n",
        "            preds = outs.argmax(dim=1)\n",
        "            correct += preds.eq(labels).sum()\n",
        "\n",
        "            # update parameters\n",
        "            optimizer.step()\n",
        "            optimizer.zero_grad()\n",
        "            num_images += len(labels)\n",
        "\n",
        "\n",
        "        acc = correct / num_images\n",
        "        acc_eval,loss_eval = eval(net, valid_loader)\n",
        "\n",
        "        train_val_results[\"train_loss\"].append(loss)\n",
        "        train_val_results[\"train_acc\"].append(acc)\n",
        "        train_val_results[\"val_loss\"].append(loss_eval)\n",
        "        train_val_results[\"val_acc\"].append(acc_eval)\n",
        "\n",
        "        print('epoch: %d, lr: %f, accuracy: %f, loss: %f, valid accuracy: %f' % (epoch, optimizer.param_groups[0]['lr'], acc, loss.item(), acc_eval))\n",
        "\n",
        "    return train_val_results"
      ]
    },
    {
      "cell_type": "code",
      "execution_count": 39,
      "metadata": {
        "colab": {
          "base_uri": "https://localhost:8080/"
        },
        "id": "Nd32m1UZESGp",
        "outputId": "e72ae8f4-8d9a-4af7-d399-d3d223896fb6"
      },
      "outputs": [
        {
          "output_type": "stream",
          "name": "stdout",
          "text": [
            "epoch: 0, lr: 0.001000, accuracy: 0.308073, loss: 2.062748, valid accuracy: 0.535417\n",
            "epoch: 1, lr: 0.001000, accuracy: 0.657552, loss: 1.321801, valid accuracy: 0.654688\n",
            "epoch: 2, lr: 0.001000, accuracy: 0.737240, loss: 1.251256, valid accuracy: 0.690625\n",
            "epoch: 3, lr: 0.001000, accuracy: 0.772917, loss: 1.202444, valid accuracy: 0.701823\n",
            "epoch: 4, lr: 0.001000, accuracy: 0.805469, loss: 0.923480, valid accuracy: 0.723177\n",
            "epoch: 5, lr: 0.001000, accuracy: 0.828646, loss: 0.669987, valid accuracy: 0.714844\n",
            "epoch: 6, lr: 0.001000, accuracy: 0.839844, loss: 0.554739, valid accuracy: 0.716667\n",
            "epoch: 7, lr: 0.001000, accuracy: 0.867708, loss: 0.647769, valid accuracy: 0.726302\n",
            "epoch: 8, lr: 0.001000, accuracy: 0.867188, loss: 0.491101, valid accuracy: 0.725000\n",
            "epoch: 9, lr: 0.001000, accuracy: 0.890104, loss: 0.596743, valid accuracy: 0.723698\n",
            "accuracy on testing data: 0.729688\n",
            "[INFO] Total training time: 321.562 seconds\n"
          ]
        }
      ],
      "source": [
        "# Start the timer\n",
        "from timeit import default_timer as timer\n",
        "start_time = timer()\n",
        "epoches = 10\n",
        "\n",
        "train_val_results = train(model, train_dataloader, valid_dataloader, loss_function, optimizer, epoches)\n",
        "acc_test,loss_test = eval(model, test_dataloader)\n",
        "\n",
        "print('accuracy on testing data: %f' % acc_test) #  a reference output is provided below:\n",
        "\n",
        "# End the timer and print out how long it took\n",
        "end_time = timer()\n",
        "print(f\"[INFO] Total training time: {end_time-start_time:.3f} seconds\")"
      ]
    },
    {
      "cell_type": "markdown",
      "metadata": {
        "id": "ymqAdgmLmytl"
      },
      "source": [
        "### 7.Evaluate model by plotting loss curves"
      ]
    },
    {
      "cell_type": "code",
      "execution_count": 40,
      "metadata": {
        "id": "THg_0kyMJRaM"
      },
      "outputs": [],
      "source": [
        "import matplotlib.pyplot as plt\n",
        "\n",
        "# Plot loss curves of a model\n",
        "def plot_loss_curves(results):\n",
        "    \"\"\"Plots training curves of a results dictionary.\n",
        "\n",
        "    Args:\n",
        "        results (dict): dictionary containing list of values, e.g.\n",
        "            {\"train_loss\": [...],\n",
        "             \"train_acc\": [...],\n",
        "             \"val_loss\": [...],\n",
        "             \"val_acc\": [...]}\n",
        "    \"\"\"\n",
        "\n",
        "\n",
        "    epochs = range(len(results[\"train_loss\"]))\n",
        "\n",
        "    train_loss = []\n",
        "    test_loss = []\n",
        "    train_accuracy = []\n",
        "    test_accuracy = []\n",
        "\n",
        "\n",
        "    for i in epochs:\n",
        "      train_loss.append(results[\"train_loss\"][i].detach().cpu().numpy())\n",
        "      test_loss.append(results[\"val_loss\"][i].detach().cpu().numpy())\n",
        "      train_accuracy.append(results[\"train_acc\"][i].detach().cpu().numpy())\n",
        "      test_accuracy.append(results[\"val_acc\"][i].detach().cpu().numpy())\n",
        "\n",
        "    plt.figure(figsize=(15, 7))\n",
        "\n",
        "    # Plot loss\n",
        "    plt.subplot(1, 2, 1)\n",
        "    plt.plot(epochs, train_loss, label=\"train_loss\")\n",
        "    plt.plot(epochs, test_loss, label=\"test_loss\")\n",
        "    plt.title(\"Loss\")\n",
        "    plt.xlabel(\"Epochs\")\n",
        "    plt.legend()\n",
        "\n",
        "    # Plot accuracy\n",
        "    plt.subplot(1, 2, 2)\n",
        "    plt.plot(epochs, train_accuracy, label=\"train_accuracy\")\n",
        "    plt.plot(epochs, test_accuracy, label=\"test_accuracy\")\n",
        "    plt.title(\"Accuracy\")\n",
        "    plt.xlabel(\"Epochs\")\n",
        "    plt.legend()"
      ]
    },
    {
      "cell_type": "code",
      "execution_count": 41,
      "metadata": {
        "id": "pd-WFLdvJRwb",
        "colab": {
          "base_uri": "https://localhost:8080/",
          "height": 539
        },
        "outputId": "9c77640f-99ec-4b7c-ba1e-bfec96ecedd3"
      },
      "outputs": [
        {
          "output_type": "display_data",
          "data": {
            "text/plain": [
              "<Figure size 1500x700 with 2 Axes>"
            ],
            "image/png": "[encoded data removed]"
          },
          "metadata": {}
        }
      ],
      "source": [
        "plot_loss_curves(train_val_results)\n",
        "\n",
        "# epochs = range(len(train_val_results[\"train_loss\"]))\n",
        "# len(train_val_results[\"train_loss\"])"
      ]
    },
    {
      "cell_type": "markdown",
      "metadata": {
        "id": "U_wgvzYU6JMy"
      },
      "source": [
        "### 8. Saving the model"
      ]
    },
    {
      "cell_type": "code",
      "execution_count": 42,
      "metadata": {
        "id": "MHZvygUKzmfN",
        "colab": {
          "base_uri": "https://localhost:8080/"
        },
        "outputId": "68ccf50b-0f1c-4fbb-d6c5-94b6dba890f6"
      },
      "outputs": [
        {
          "output_type": "stream",
          "name": "stdout",
          "text": [
            "Saving model to: models/resnt18_model.pth\n"
          ]
        }
      ],
      "source": [
        "from pathlib import Path\n",
        "\n",
        "# 1. Create models directory\n",
        "MODEL_PATH = Path(\"models\")\n",
        "MODEL_PATH.mkdir(parents=True, exist_ok=True)\n",
        "\n",
        "# 2. Create model save path\n",
        "MODEL_NAME = \"resnt18_model.pth\"\n",
        "MODEL_SAVE_PATH = MODEL_PATH / MODEL_NAME\n",
        "\n",
        "# 3. Save the model state dict\n",
        "print(f\"Saving model to: {MODEL_SAVE_PATH}\")\n",
        "torch.save(obj=model.state_dict(), # only saving the state_dict() only saves the models learned parameters\n",
        "           f=MODEL_SAVE_PATH)"
      ]
    },
    {
      "cell_type": "markdown",
      "source": [
        "### 9. Choose 100 images from EuroSAT dataset and select the training set"
      ],
      "metadata": {
        "id": "W8nIi-YwvtRM"
      }
    },
    {
      "cell_type": "code",
      "source": [
        "from pathlib import Path\n",
        "data_path = Path(\"data/\")\n",
        "image_path = data_path / \"eurosat\"\n",
        "url = \"https://madm.dfki.de/files/sentinel/EuroSAT.zip\"\n",
        "\n",
        "download_and_extract(data_path,image_path, url, \"eurosat.zip\")"
      ],
      "metadata": {
        "colab": {
          "base_uri": "https://localhost:8080/"
        },
        "id": "QsKsuumW-daj",
        "outputId": "33223f33-97cc-4b8f-b79e-26f4949f7d04"
      },
      "execution_count": 43,
      "outputs": [
        {
          "output_type": "stream",
          "name": "stdout",
          "text": [
            "data/eurosat directory exists.\n"
          ]
        }
      ]
    },
    {
      "cell_type": "code",
      "source": [
        "import torch\n",
        "from torch.utils.data import DataLoader, Dataset\n",
        "from torchvision import transforms\n",
        "from PIL import Image\n",
        "import random\n",
        "\n",
        "eurosat_dataset = torchvision.datasets.ImageFolder(image_path / \"2750\")\n",
        "\n",
        "\n",
        "\n",
        "def getEuroSatDataLoaders(starting_number):\n",
        "\n",
        "  sample_list = eurosat_dataset.imgs\n",
        "  unique_categories = set(label for _, label in sample_list)\n",
        "  selected_categories = random.sample(unique_categories, k=5)\n",
        "  category_counters = {label: 0 for label in selected_categories}\n",
        "\n",
        "  # Initialize lists to store selected images and labels\n",
        "  selected_images = []\n",
        "  selected_labels = []\n",
        "\n",
        "\n",
        "  # Iterate through the sample list to select 20 images from each of the 5 categories\n",
        "  for image_path, label in sample_list:\n",
        "      if label in selected_categories and category_counters[label] < starting_number*20 + 20:\n",
        "          if category_counters[label] > starting_number*20: ### select another set of images and labels according to the starting_number\n",
        "            selected_images.append(image_path)\n",
        "            selected_labels.append(label)\n",
        "          category_counters[label] += 1\n",
        "  # Randomly choose 25 images for training (5 from each category)\n",
        "  training_images = []\n",
        "  training_labels = []\n",
        "  testing_images = []\n",
        "  testing_labels = []\n",
        "\n",
        "\n",
        "  category_counters = {label: 0 for label in selected_categories} ## reset all category counters\n",
        "\n",
        "  # print(f\"Selected Categories {selected_categories} \\n category_counters {category_counters}\")\n",
        "\n",
        "  for image_path, label in sample_list:\n",
        "      if label in selected_categories and category_counters[label] < 20:\n",
        "          if category_counters[label] < 5:\n",
        "              # Add to training set\n",
        "              training_images.append(image_path)\n",
        "              training_labels.append(label)\n",
        "          else:\n",
        "              # Add to testing set\n",
        "              testing_images.append(image_path)\n",
        "              testing_labels.append(label)\n",
        "          category_counters[label] += 1\n",
        "\n",
        "  # Define transforms (you can customize these)\n",
        "  transform = transforms.Compose([\n",
        "      transforms.Resize((224, 224)),\n",
        "      transforms.ToTensor(),\n",
        "  ])\n",
        "  # Define a custom dataset class\n",
        "  class CustomDataset(Dataset):\n",
        "      def __init__(self, images, labels, transform=None):\n",
        "          self.images = images\n",
        "          self.labels = labels\n",
        "          self.transform = transform\n",
        "\n",
        "      def __len__(self):\n",
        "          return len(self.images)\n",
        "\n",
        "      def __getitem__(self, idx):\n",
        "          image_path, label = self.images[idx], self.labels[idx]\n",
        "          image = Image.open(image_path).convert(\"RGB\")\n",
        "\n",
        "          if self.transform:\n",
        "              image = self.transform(image)\n",
        "\n",
        "          return image, label\n",
        "\n",
        "  # Create datasets and data loaders for training and testing\n",
        "  train_dataset = CustomDataset(training_images, training_labels, transform=transform)\n",
        "  test_dataset = CustomDataset(testing_images, testing_labels, transform=transform)\n",
        "\n",
        "  # Define batch size\n",
        "  batch_size = 32\n",
        "\n",
        "  # Create DataLoader instances\n",
        "  train_loader = DataLoader(train_dataset, batch_size=batch_size, shuffle=True)\n",
        "  test_loader = DataLoader(test_dataset, batch_size=batch_size, shuffle=False)\n",
        "\n",
        "  return train_loader, test_loader\n",
        "\n",
        "\n"
      ],
      "metadata": {
        "id": "qb9FNxrArLjJ"
      },
      "execution_count": 44,
      "outputs": []
    },
    {
      "cell_type": "markdown",
      "source": [
        "### 9. Fine-tune the pretrained model"
      ],
      "metadata": {
        "id": "6UT6cAj9Jihw"
      }
    },
    {
      "cell_type": "markdown",
      "source": [
        "Converting above training and testing data sets in to data loaders"
      ],
      "metadata": {
        "id": "wzk4MisdJxlh"
      }
    },
    {
      "cell_type": "code",
      "source": [
        "import random\n",
        "import numpy as np\n",
        "import torchvision\n",
        "import torch\n",
        "\n",
        "data_path2 = Path(\"models/\")\n",
        "weights = torchvision.models.ResNet18_Weights.DEFAULT\n",
        "loaded_model = torchvision.models.resnet18(weights, progress = True)\n",
        "\n",
        "#Freezing parameters\n",
        "for param in loaded_model.parameters():\n",
        "    param.requires_grad = False\n",
        "\n",
        "#Unfreez layer 4 and last layer\n",
        "\n",
        "for param in loaded_model.layer4.parameters():\n",
        "    param.requires_grad = True\n",
        "\n",
        "output_shape = len(originalDataset.classes)\n",
        "\n",
        "loaded_model.fc = torch.nn.Linear(in_features=512,\n",
        "                    out_features=output_shape, # same number of output units as our number of classes\n",
        "                    bias=True).to(device)\n",
        "saved_path = data_path2 / \"resnt18_model.pth\"\n",
        "loaded_model.load_state_dict(torch.load(saved_path))\n"
      ],
      "metadata": {
        "colab": {
          "base_uri": "https://localhost:8080/"
        },
        "id": "-oWoOhbvKx1k",
        "outputId": "05f5bb26-0c17-47a1-ffde-a1571fc2153e"
      },
      "execution_count": 61,
      "outputs": [
        {
          "output_type": "stream",
          "name": "stderr",
          "text": [
            "/usr/local/lib/python3.10/dist-packages/torchvision/models/_utils.py:135: UserWarning: Using 'weights' as positional parameter(s) is deprecated since 0.13 and may be removed in the future. Please use keyword parameter(s) instead.\n",
            "  warnings.warn(\n"
          ]
        },
        {
          "output_type": "execute_result",
          "data": {
            "text/plain": [
              "<All keys matched successfully>"
            ]
          },
          "metadata": {},
          "execution_count": 61
        }
      ]
    },
    {
      "cell_type": "code",
      "source": [
        "torchinfo.summary(loaded_model,\n",
        "                  input_size = [32, 3, 224, 224],\n",
        "                  verbose=0,\n",
        "                  col_names=[\"input_size\", \"output_size\", \"num_params\", \"trainable\"],\n",
        "                  col_width=20,\n",
        "                  row_settings=[\"var_names\"])"
      ],
      "metadata": {
        "colab": {
          "base_uri": "https://localhost:8080/"
        },
        "id": "mVueUDgaltJe",
        "outputId": "2c24bd51-1239-4677-b0a7-08e2cf26c3c2"
      },
      "execution_count": 62,
      "outputs": [
        {
          "output_type": "execute_result",
          "data": {
            "text/plain": [
              "========================================================================================================================\n",
              "Layer (type (var_name))                  Input Shape          Output Shape         Param #              Trainable\n",
              "========================================================================================================================\n",
              "ResNet (ResNet)                          [32, 3, 224, 224]    [32, 64]             --                   Partial\n",
              "├─Conv2d (conv1)                         [32, 3, 224, 224]    [32, 64, 112, 112]   (9,408)              False\n",
              "├─BatchNorm2d (bn1)                      [32, 64, 112, 112]   [32, 64, 112, 112]   (128)                False\n",
              "├─ReLU (relu)                            [32, 64, 112, 112]   [32, 64, 112, 112]   --                   --\n",
              "├─MaxPool2d (maxpool)                    [32, 64, 112, 112]   [32, 64, 56, 56]     --                   --\n",
              "├─Sequential (layer1)                    [32, 64, 56, 56]     [32, 64, 56, 56]     --                   False\n",
              "│    └─BasicBlock (0)                    [32, 64, 56, 56]     [32, 64, 56, 56]     --                   False\n",
              "│    │    └─Conv2d (conv1)               [32, 64, 56, 56]     [32, 64, 56, 56]     (36,864)             False\n",
              "│    │    └─BatchNorm2d (bn1)            [32, 64, 56, 56]     [32, 64, 56, 56]     (128)                False\n",
              "│    │    └─ReLU (relu)                  [32, 64, 56, 56]     [32, 64, 56, 56]     --                   --\n",
              "│    │    └─Conv2d (conv2)               [32, 64, 56, 56]     [32, 64, 56, 56]     (36,864)             False\n",
              "│    │    └─BatchNorm2d (bn2)            [32, 64, 56, 56]     [32, 64, 56, 56]     (128)                False\n",
              "│    │    └─ReLU (relu)                  [32, 64, 56, 56]     [32, 64, 56, 56]     --                   --\n",
              "│    └─BasicBlock (1)                    [32, 64, 56, 56]     [32, 64, 56, 56]     --                   False\n",
              "│    │    └─Conv2d (conv1)               [32, 64, 56, 56]     [32, 64, 56, 56]     (36,864)             False\n",
              "│    │    └─BatchNorm2d (bn1)            [32, 64, 56, 56]     [32, 64, 56, 56]     (128)                False\n",
              "│    │    └─ReLU (relu)                  [32, 64, 56, 56]     [32, 64, 56, 56]     --                   --\n",
              "│    │    └─Conv2d (conv2)               [32, 64, 56, 56]     [32, 64, 56, 56]     (36,864)             False\n",
              "│    │    └─BatchNorm2d (bn2)            [32, 64, 56, 56]     [32, 64, 56, 56]     (128)                False\n",
              "│    │    └─ReLU (relu)                  [32, 64, 56, 56]     [32, 64, 56, 56]     --                   --\n",
              "├─Sequential (layer2)                    [32, 64, 56, 56]     [32, 128, 28, 28]    --                   False\n",
              "│    └─BasicBlock (0)                    [32, 64, 56, 56]     [32, 128, 28, 28]    --                   False\n",
              "│    │    └─Conv2d (conv1)               [32, 64, 56, 56]     [32, 128, 28, 28]    (73,728)             False\n",
              "│    │    └─BatchNorm2d (bn1)            [32, 128, 28, 28]    [32, 128, 28, 28]    (256)                False\n",
              "│    │    └─ReLU (relu)                  [32, 128, 28, 28]    [32, 128, 28, 28]    --                   --\n",
              "│    │    └─Conv2d (conv2)               [32, 128, 28, 28]    [32, 128, 28, 28]    (147,456)            False\n",
              "│    │    └─BatchNorm2d (bn2)            [32, 128, 28, 28]    [32, 128, 28, 28]    (256)                False\n",
              "│    │    └─Sequential (downsample)      [32, 64, 56, 56]     [32, 128, 28, 28]    (8,448)              False\n",
              "│    │    └─ReLU (relu)                  [32, 128, 28, 28]    [32, 128, 28, 28]    --                   --\n",
              "│    └─BasicBlock (1)                    [32, 128, 28, 28]    [32, 128, 28, 28]    --                   False\n",
              "│    │    └─Conv2d (conv1)               [32, 128, 28, 28]    [32, 128, 28, 28]    (147,456)            False\n",
              "│    │    └─BatchNorm2d (bn1)            [32, 128, 28, 28]    [32, 128, 28, 28]    (256)                False\n",
              "│    │    └─ReLU (relu)                  [32, 128, 28, 28]    [32, 128, 28, 28]    --                   --\n",
              "│    │    └─Conv2d (conv2)               [32, 128, 28, 28]    [32, 128, 28, 28]    (147,456)            False\n",
              "│    │    └─BatchNorm2d (bn2)            [32, 128, 28, 28]    [32, 128, 28, 28]    (256)                False\n",
              "│    │    └─ReLU (relu)                  [32, 128, 28, 28]    [32, 128, 28, 28]    --                   --\n",
              "├─Sequential (layer3)                    [32, 128, 28, 28]    [32, 256, 14, 14]    --                   False\n",
              "│    └─BasicBlock (0)                    [32, 128, 28, 28]    [32, 256, 14, 14]    --                   False\n",
              "│    │    └─Conv2d (conv1)               [32, 128, 28, 28]    [32, 256, 14, 14]    (294,912)            False\n",
              "│    │    └─BatchNorm2d (bn1)            [32, 256, 14, 14]    [32, 256, 14, 14]    (512)                False\n",
              "│    │    └─ReLU (relu)                  [32, 256, 14, 14]    [32, 256, 14, 14]    --                   --\n",
              "│    │    └─Conv2d (conv2)               [32, 256, 14, 14]    [32, 256, 14, 14]    (589,824)            False\n",
              "│    │    └─BatchNorm2d (bn2)            [32, 256, 14, 14]    [32, 256, 14, 14]    (512)                False\n",
              "│    │    └─Sequential (downsample)      [32, 128, 28, 28]    [32, 256, 14, 14]    (33,280)             False\n",
              "│    │    └─ReLU (relu)                  [32, 256, 14, 14]    [32, 256, 14, 14]    --                   --\n",
              "│    └─BasicBlock (1)                    [32, 256, 14, 14]    [32, 256, 14, 14]    --                   False\n",
              "│    │    └─Conv2d (conv1)               [32, 256, 14, 14]    [32, 256, 14, 14]    (589,824)            False\n",
              "│    │    └─BatchNorm2d (bn1)            [32, 256, 14, 14]    [32, 256, 14, 14]    (512)                False\n",
              "│    │    └─ReLU (relu)                  [32, 256, 14, 14]    [32, 256, 14, 14]    --                   --\n",
              "│    │    └─Conv2d (conv2)               [32, 256, 14, 14]    [32, 256, 14, 14]    (589,824)            False\n",
              "│    │    └─BatchNorm2d (bn2)            [32, 256, 14, 14]    [32, 256, 14, 14]    (512)                False\n",
              "│    │    └─ReLU (relu)                  [32, 256, 14, 14]    [32, 256, 14, 14]    --                   --\n",
              "├─Sequential (layer4)                    [32, 256, 14, 14]    [32, 512, 7, 7]      --                   True\n",
              "│    └─BasicBlock (0)                    [32, 256, 14, 14]    [32, 512, 7, 7]      --                   True\n",
              "│    │    └─Conv2d (conv1)               [32, 256, 14, 14]    [32, 512, 7, 7]      1,179,648            True\n",
              "│    │    └─BatchNorm2d (bn1)            [32, 512, 7, 7]      [32, 512, 7, 7]      1,024                True\n",
              "│    │    └─ReLU (relu)                  [32, 512, 7, 7]      [32, 512, 7, 7]      --                   --\n",
              "│    │    └─Conv2d (conv2)               [32, 512, 7, 7]      [32, 512, 7, 7]      2,359,296            True\n",
              "│    │    └─BatchNorm2d (bn2)            [32, 512, 7, 7]      [32, 512, 7, 7]      1,024                True\n",
              "│    │    └─Sequential (downsample)      [32, 256, 14, 14]    [32, 512, 7, 7]      132,096              True\n",
              "│    │    └─ReLU (relu)                  [32, 512, 7, 7]      [32, 512, 7, 7]      --                   --\n",
              "│    └─BasicBlock (1)                    [32, 512, 7, 7]      [32, 512, 7, 7]      --                   True\n",
              "│    │    └─Conv2d (conv1)               [32, 512, 7, 7]      [32, 512, 7, 7]      2,359,296            True\n",
              "│    │    └─BatchNorm2d (bn1)            [32, 512, 7, 7]      [32, 512, 7, 7]      1,024                True\n",
              "│    │    └─ReLU (relu)                  [32, 512, 7, 7]      [32, 512, 7, 7]      --                   --\n",
              "│    │    └─Conv2d (conv2)               [32, 512, 7, 7]      [32, 512, 7, 7]      2,359,296            True\n",
              "│    │    └─BatchNorm2d (bn2)            [32, 512, 7, 7]      [32, 512, 7, 7]      1,024                True\n",
              "│    │    └─ReLU (relu)                  [32, 512, 7, 7]      [32, 512, 7, 7]      --                   --\n",
              "├─AdaptiveAvgPool2d (avgpool)            [32, 512, 7, 7]      [32, 512, 1, 1]      --                   --\n",
              "├─Linear (fc)                            [32, 512]            [32, 64]             32,832               True\n",
              "========================================================================================================================\n",
              "Total params: 11,209,344\n",
              "Trainable params: 8,426,560\n",
              "Non-trainable params: 2,782,784\n",
              "Total mult-adds (G): 58.04\n",
              "========================================================================================================================\n",
              "Input size (MB): 19.27\n",
              "Forward/backward pass size (MB): 1271.68\n",
              "Params size (MB): 44.84\n",
              "Estimated Total Size (MB): 1335.78\n",
              "========================================================================================================================"
            ]
          },
          "metadata": {},
          "execution_count": 62
        }
      ]
    },
    {
      "cell_type": "code",
      "source": [
        "# Start the timer\n",
        "from timeit import default_timer as timer\n",
        "start_time = timer()\n",
        "epoches = 20\n",
        "loss_function = nn.CrossEntropyLoss()\n",
        "optimizer = torch.optim.Adam(loaded_model.parameters(), lr=0.001)\n",
        "\n",
        "for staring_number in range(0,10):\n",
        "  train_loader, test_loader = getEuroSatDataLoaders(staring_number)\n",
        "  train_val_results = train(loaded_model, train_loader, test_loader, loss_function, optimizer, epoches)\n",
        "\n",
        "end_time = timer()\n",
        "print(f\"[INFO] Total training time: {end_time-start_time:.3f} seconds\")"
      ],
      "metadata": {
        "colab": {
          "base_uri": "https://localhost:8080/"
        },
        "id": "z4bzINAXRofc",
        "outputId": "479d6e53-3844-4cac-dbf0-a20b122e958b"
      },
      "execution_count": 63,
      "outputs": [
        {
          "output_type": "stream",
          "name": "stderr",
          "text": [
            "<ipython-input-44-666319a8f3f5>:15: DeprecationWarning: Sampling from a set deprecated\n",
            "since Python 3.9 and will be removed in a subsequent version.\n",
            "  selected_categories = random.sample(unique_categories, k=5)\n"
          ]
        },
        {
          "output_type": "stream",
          "name": "stdout",
          "text": [
            "epoch: 0, lr: 0.001000, accuracy: 0.000000, loss: 7.011235, valid accuracy: 0.360000\n",
            "epoch: 1, lr: 0.001000, accuracy: 1.000000, loss: 0.015787, valid accuracy: 0.546667\n",
            "epoch: 2, lr: 0.001000, accuracy: 1.000000, loss: 0.000531, valid accuracy: 0.520000\n",
            "epoch: 3, lr: 0.001000, accuracy: 1.000000, loss: 0.000157, valid accuracy: 0.520000\n",
            "epoch: 4, lr: 0.001000, accuracy: 1.000000, loss: 0.000073, valid accuracy: 0.506667\n",
            "epoch: 5, lr: 0.001000, accuracy: 1.000000, loss: 0.000040, valid accuracy: 0.520000\n",
            "epoch: 6, lr: 0.001000, accuracy: 1.000000, loss: 0.000025, valid accuracy: 0.533333\n",
            "epoch: 7, lr: 0.001000, accuracy: 1.000000, loss: 0.000017, valid accuracy: 0.533333\n",
            "epoch: 8, lr: 0.001000, accuracy: 1.000000, loss: 0.000013, valid accuracy: 0.533333\n",
            "epoch: 9, lr: 0.001000, accuracy: 1.000000, loss: 0.000010, valid accuracy: 0.533333\n",
            "epoch: 10, lr: 0.001000, accuracy: 1.000000, loss: 0.000008, valid accuracy: 0.533333\n",
            "epoch: 11, lr: 0.001000, accuracy: 1.000000, loss: 0.000006, valid accuracy: 0.493333\n",
            "epoch: 12, lr: 0.001000, accuracy: 1.000000, loss: 0.000005, valid accuracy: 0.493333\n",
            "epoch: 13, lr: 0.001000, accuracy: 1.000000, loss: 0.000004, valid accuracy: 0.493333\n",
            "epoch: 14, lr: 0.001000, accuracy: 1.000000, loss: 0.000004, valid accuracy: 0.546667\n",
            "epoch: 15, lr: 0.001000, accuracy: 1.000000, loss: 0.000003, valid accuracy: 0.560000\n",
            "epoch: 16, lr: 0.001000, accuracy: 1.000000, loss: 0.000003, valid accuracy: 0.586667\n",
            "epoch: 17, lr: 0.001000, accuracy: 1.000000, loss: 0.000003, valid accuracy: 0.573333\n",
            "epoch: 18, lr: 0.001000, accuracy: 1.000000, loss: 0.000002, valid accuracy: 0.586667\n",
            "epoch: 19, lr: 0.001000, accuracy: 1.000000, loss: 0.000002, valid accuracy: 0.600000\n",
            "epoch: 0, lr: 0.001000, accuracy: 0.400000, loss: 9.320457, valid accuracy: 0.173333\n",
            "epoch: 1, lr: 0.001000, accuracy: 0.400000, loss: 3.551230, valid accuracy: 0.360000\n",
            "epoch: 2, lr: 0.001000, accuracy: 0.800000, loss: 0.478841, valid accuracy: 0.480000\n",
            "epoch: 3, lr: 0.001000, accuracy: 1.000000, loss: 0.002479, valid accuracy: 0.573333\n",
            "epoch: 4, lr: 0.001000, accuracy: 1.000000, loss: 0.000214, valid accuracy: 0.640000\n",
            "epoch: 5, lr: 0.001000, accuracy: 1.000000, loss: 0.000073, valid accuracy: 0.653333\n",
            "epoch: 6, lr: 0.001000, accuracy: 1.000000, loss: 0.000058, valid accuracy: 0.666667\n",
            "epoch: 7, lr: 0.001000, accuracy: 1.000000, loss: 0.000065, valid accuracy: 0.680000\n",
            "epoch: 8, lr: 0.001000, accuracy: 1.000000, loss: 0.000095, valid accuracy: 0.693333\n",
            "epoch: 9, lr: 0.001000, accuracy: 1.000000, loss: 0.000189, valid accuracy: 0.733333\n",
            "epoch: 10, lr: 0.001000, accuracy: 1.000000, loss: 0.000448, valid accuracy: 0.760000\n",
            "epoch: 11, lr: 0.001000, accuracy: 1.000000, loss: 0.000938, valid accuracy: 0.773333\n",
            "epoch: 12, lr: 0.001000, accuracy: 1.000000, loss: 0.001319, valid accuracy: 0.786667\n",
            "epoch: 13, lr: 0.001000, accuracy: 1.000000, loss: 0.001155, valid accuracy: 0.786667\n",
            "epoch: 14, lr: 0.001000, accuracy: 1.000000, loss: 0.000783, valid accuracy: 0.800000\n",
            "epoch: 15, lr: 0.001000, accuracy: 1.000000, loss: 0.000534, valid accuracy: 0.800000\n",
            "epoch: 16, lr: 0.001000, accuracy: 1.000000, loss: 0.000414, valid accuracy: 0.786667\n",
            "epoch: 17, lr: 0.001000, accuracy: 1.000000, loss: 0.000358, valid accuracy: 0.786667\n",
            "epoch: 18, lr: 0.001000, accuracy: 1.000000, loss: 0.000329, valid accuracy: 0.826667\n",
            "epoch: 19, lr: 0.001000, accuracy: 1.000000, loss: 0.000312, valid accuracy: 0.840000\n",
            "epoch: 0, lr: 0.001000, accuracy: 0.600000, loss: 6.306362, valid accuracy: 0.546667\n",
            "epoch: 1, lr: 0.001000, accuracy: 0.600000, loss: 4.069617, valid accuracy: 0.546667\n",
            "epoch: 2, lr: 0.001000, accuracy: 0.600000, loss: 2.442556, valid accuracy: 0.546667\n",
            "epoch: 3, lr: 0.001000, accuracy: 0.680000, loss: 1.124700, valid accuracy: 0.600000\n",
            "epoch: 4, lr: 0.001000, accuracy: 0.960000, loss: 0.248866, valid accuracy: 0.693333\n",
            "epoch: 5, lr: 0.001000, accuracy: 1.000000, loss: 0.041905, valid accuracy: 0.706667\n",
            "epoch: 6, lr: 0.001000, accuracy: 1.000000, loss: 0.023695, valid accuracy: 0.706667\n",
            "epoch: 7, lr: 0.001000, accuracy: 1.000000, loss: 0.019486, valid accuracy: 0.733333\n",
            "epoch: 8, lr: 0.001000, accuracy: 1.000000, loss: 0.014180, valid accuracy: 0.706667\n",
            "epoch: 9, lr: 0.001000, accuracy: 1.000000, loss: 0.010755, valid accuracy: 0.733333\n",
            "epoch: 10, lr: 0.001000, accuracy: 1.000000, loss: 0.008890, valid accuracy: 0.760000\n",
            "epoch: 11, lr: 0.001000, accuracy: 1.000000, loss: 0.007099, valid accuracy: 0.773333\n",
            "epoch: 12, lr: 0.001000, accuracy: 1.000000, loss: 0.005610, valid accuracy: 0.786667\n",
            "epoch: 13, lr: 0.001000, accuracy: 1.000000, loss: 0.004712, valid accuracy: 0.773333\n",
            "epoch: 14, lr: 0.001000, accuracy: 1.000000, loss: 0.004214, valid accuracy: 0.773333\n",
            "epoch: 15, lr: 0.001000, accuracy: 1.000000, loss: 0.003784, valid accuracy: 0.786667\n",
            "epoch: 16, lr: 0.001000, accuracy: 1.000000, loss: 0.003300, valid accuracy: 0.786667\n",
            "epoch: 17, lr: 0.001000, accuracy: 1.000000, loss: 0.002772, valid accuracy: 0.760000\n",
            "epoch: 18, lr: 0.001000, accuracy: 1.000000, loss: 0.002280, valid accuracy: 0.760000\n",
            "epoch: 19, lr: 0.001000, accuracy: 1.000000, loss: 0.001870, valid accuracy: 0.760000\n",
            "epoch: 0, lr: 0.001000, accuracy: 0.440000, loss: 4.886143, valid accuracy: 0.400000\n",
            "epoch: 1, lr: 0.001000, accuracy: 0.520000, loss: 3.264352, valid accuracy: 0.400000\n",
            "epoch: 2, lr: 0.001000, accuracy: 0.600000, loss: 1.946211, valid accuracy: 0.373333\n",
            "epoch: 3, lr: 0.001000, accuracy: 0.600000, loss: 1.235669, valid accuracy: 0.373333\n",
            "epoch: 4, lr: 0.001000, accuracy: 0.720000, loss: 0.731998, valid accuracy: 0.373333\n",
            "epoch: 5, lr: 0.001000, accuracy: 0.840000, loss: 0.411103, valid accuracy: 0.373333\n",
            "epoch: 6, lr: 0.001000, accuracy: 1.000000, loss: 0.236172, valid accuracy: 0.400000\n",
            "epoch: 7, lr: 0.001000, accuracy: 1.000000, loss: 0.151305, valid accuracy: 0.466667\n",
            "epoch: 8, lr: 0.001000, accuracy: 1.000000, loss: 0.113754, valid accuracy: 0.560000\n",
            "epoch: 9, lr: 0.001000, accuracy: 0.960000, loss: 0.094543, valid accuracy: 0.626667\n",
            "epoch: 10, lr: 0.001000, accuracy: 0.960000, loss: 0.077667, valid accuracy: 0.653333\n",
            "epoch: 11, lr: 0.001000, accuracy: 1.000000, loss: 0.058284, valid accuracy: 0.693333\n",
            "epoch: 12, lr: 0.001000, accuracy: 1.000000, loss: 0.038494, valid accuracy: 0.720000\n",
            "epoch: 13, lr: 0.001000, accuracy: 1.000000, loss: 0.022797, valid accuracy: 0.760000\n",
            "epoch: 14, lr: 0.001000, accuracy: 1.000000, loss: 0.013086, valid accuracy: 0.773333\n",
            "epoch: 15, lr: 0.001000, accuracy: 1.000000, loss: 0.007926, valid accuracy: 0.786667\n",
            "epoch: 16, lr: 0.001000, accuracy: 1.000000, loss: 0.005258, valid accuracy: 0.786667\n",
            "epoch: 17, lr: 0.001000, accuracy: 1.000000, loss: 0.003824, valid accuracy: 0.800000\n",
            "epoch: 18, lr: 0.001000, accuracy: 1.000000, loss: 0.003024, valid accuracy: 0.800000\n",
            "epoch: 19, lr: 0.001000, accuracy: 1.000000, loss: 0.002575, valid accuracy: 0.800000\n",
            "epoch: 0, lr: 0.001000, accuracy: 0.400000, loss: 5.189924, valid accuracy: 0.306667\n",
            "epoch: 1, lr: 0.001000, accuracy: 0.400000, loss: 4.368568, valid accuracy: 0.240000\n",
            "epoch: 2, lr: 0.001000, accuracy: 0.480000, loss: 3.212594, valid accuracy: 0.226667\n",
            "epoch: 3, lr: 0.001000, accuracy: 0.520000, loss: 2.117379, valid accuracy: 0.253333\n",
            "epoch: 4, lr: 0.001000, accuracy: 0.680000, loss: 1.243225, valid accuracy: 0.226667\n",
            "epoch: 5, lr: 0.001000, accuracy: 0.880000, loss: 0.597303, valid accuracy: 0.226667\n",
            "epoch: 6, lr: 0.001000, accuracy: 0.960000, loss: 0.290741, valid accuracy: 0.240000\n",
            "epoch: 7, lr: 0.001000, accuracy: 1.000000, loss: 0.148103, valid accuracy: 0.280000\n",
            "epoch: 8, lr: 0.001000, accuracy: 1.000000, loss: 0.070150, valid accuracy: 0.320000\n",
            "epoch: 9, lr: 0.001000, accuracy: 1.000000, loss: 0.037956, valid accuracy: 0.400000\n",
            "epoch: 10, lr: 0.001000, accuracy: 1.000000, loss: 0.024341, valid accuracy: 0.426667\n",
            "epoch: 11, lr: 0.001000, accuracy: 1.000000, loss: 0.017375, valid accuracy: 0.426667\n",
            "epoch: 12, lr: 0.001000, accuracy: 1.000000, loss: 0.012298, valid accuracy: 0.413333\n",
            "epoch: 13, lr: 0.001000, accuracy: 1.000000, loss: 0.008128, valid accuracy: 0.413333\n",
            "epoch: 14, lr: 0.001000, accuracy: 1.000000, loss: 0.005226, valid accuracy: 0.440000\n",
            "epoch: 15, lr: 0.001000, accuracy: 1.000000, loss: 0.003449, valid accuracy: 0.440000\n",
            "epoch: 16, lr: 0.001000, accuracy: 1.000000, loss: 0.002451, valid accuracy: 0.440000\n",
            "epoch: 17, lr: 0.001000, accuracy: 1.000000, loss: 0.001891, valid accuracy: 0.453333\n",
            "epoch: 18, lr: 0.001000, accuracy: 1.000000, loss: 0.001566, valid accuracy: 0.453333\n",
            "epoch: 19, lr: 0.001000, accuracy: 1.000000, loss: 0.001367, valid accuracy: 0.453333\n",
            "epoch: 0, lr: 0.001000, accuracy: 0.360000, loss: 9.322597, valid accuracy: 0.080000\n",
            "epoch: 1, lr: 0.001000, accuracy: 0.400000, loss: 8.043212, valid accuracy: 0.106667\n",
            "epoch: 2, lr: 0.001000, accuracy: 0.400000, loss: 6.547192, valid accuracy: 0.106667\n",
            "epoch: 3, lr: 0.001000, accuracy: 0.400000, loss: 5.127014, valid accuracy: 0.106667\n",
            "epoch: 4, lr: 0.001000, accuracy: 0.400000, loss: 3.770024, valid accuracy: 0.160000\n",
            "epoch: 5, lr: 0.001000, accuracy: 0.600000, loss: 2.619284, valid accuracy: 0.240000\n",
            "epoch: 6, lr: 0.001000, accuracy: 0.640000, loss: 1.620574, valid accuracy: 0.373333\n",
            "epoch: 7, lr: 0.001000, accuracy: 0.800000, loss: 0.714947, valid accuracy: 0.466667\n",
            "epoch: 8, lr: 0.001000, accuracy: 1.000000, loss: 0.222320, valid accuracy: 0.520000\n",
            "epoch: 9, lr: 0.001000, accuracy: 1.000000, loss: 0.120740, valid accuracy: 0.533333\n",
            "epoch: 10, lr: 0.001000, accuracy: 1.000000, loss: 0.073850, valid accuracy: 0.546667\n",
            "epoch: 11, lr: 0.001000, accuracy: 1.000000, loss: 0.043815, valid accuracy: 0.573333\n",
            "epoch: 12, lr: 0.001000, accuracy: 1.000000, loss: 0.025850, valid accuracy: 0.560000\n",
            "epoch: 13, lr: 0.001000, accuracy: 1.000000, loss: 0.016540, valid accuracy: 0.560000\n",
            "epoch: 14, lr: 0.001000, accuracy: 1.000000, loss: 0.011856, valid accuracy: 0.586667\n",
            "epoch: 15, lr: 0.001000, accuracy: 1.000000, loss: 0.009173, valid accuracy: 0.600000\n",
            "epoch: 16, lr: 0.001000, accuracy: 1.000000, loss: 0.007380, valid accuracy: 0.600000\n",
            "epoch: 17, lr: 0.001000, accuracy: 1.000000, loss: 0.006090, valid accuracy: 0.586667\n",
            "epoch: 18, lr: 0.001000, accuracy: 1.000000, loss: 0.005122, valid accuracy: 0.613333\n",
            "epoch: 19, lr: 0.001000, accuracy: 1.000000, loss: 0.004350, valid accuracy: 0.613333\n",
            "epoch: 0, lr: 0.001000, accuracy: 0.600000, loss: 2.471562, valid accuracy: 0.480000\n",
            "epoch: 1, lr: 0.001000, accuracy: 0.600000, loss: 1.834769, valid accuracy: 0.506667\n",
            "epoch: 2, lr: 0.001000, accuracy: 0.600000, loss: 1.123974, valid accuracy: 0.506667\n",
            "epoch: 3, lr: 0.001000, accuracy: 0.680000, loss: 0.570498, valid accuracy: 0.533333\n",
            "epoch: 4, lr: 0.001000, accuracy: 0.920000, loss: 0.266388, valid accuracy: 0.560000\n",
            "epoch: 5, lr: 0.001000, accuracy: 1.000000, loss: 0.111354, valid accuracy: 0.626667\n",
            "epoch: 6, lr: 0.001000, accuracy: 1.000000, loss: 0.046298, valid accuracy: 0.666667\n",
            "epoch: 7, lr: 0.001000, accuracy: 1.000000, loss: 0.020552, valid accuracy: 0.693333\n",
            "epoch: 8, lr: 0.001000, accuracy: 1.000000, loss: 0.009877, valid accuracy: 0.760000\n",
            "epoch: 9, lr: 0.001000, accuracy: 1.000000, loss: 0.005193, valid accuracy: 0.813333\n",
            "epoch: 10, lr: 0.001000, accuracy: 1.000000, loss: 0.003006, valid accuracy: 0.840000\n",
            "epoch: 11, lr: 0.001000, accuracy: 1.000000, loss: 0.001922, valid accuracy: 0.853333\n",
            "epoch: 12, lr: 0.001000, accuracy: 1.000000, loss: 0.001355, valid accuracy: 0.853333\n",
            "epoch: 13, lr: 0.001000, accuracy: 1.000000, loss: 0.001039, valid accuracy: 0.853333\n",
            "epoch: 14, lr: 0.001000, accuracy: 1.000000, loss: 0.000853, valid accuracy: 0.853333\n",
            "epoch: 15, lr: 0.001000, accuracy: 1.000000, loss: 0.000736, valid accuracy: 0.853333\n",
            "epoch: 16, lr: 0.001000, accuracy: 1.000000, loss: 0.000659, valid accuracy: 0.840000\n",
            "epoch: 17, lr: 0.001000, accuracy: 1.000000, loss: 0.000604, valid accuracy: 0.853333\n",
            "epoch: 18, lr: 0.001000, accuracy: 1.000000, loss: 0.000562, valid accuracy: 0.826667\n",
            "epoch: 19, lr: 0.001000, accuracy: 1.000000, loss: 0.000527, valid accuracy: 0.826667\n",
            "epoch: 0, lr: 0.001000, accuracy: 0.400000, loss: 7.120192, valid accuracy: 0.413333\n",
            "epoch: 1, lr: 0.001000, accuracy: 0.480000, loss: 5.782491, valid accuracy: 0.440000\n",
            "epoch: 2, lr: 0.001000, accuracy: 0.600000, loss: 3.920494, valid accuracy: 0.440000\n",
            "epoch: 3, lr: 0.001000, accuracy: 0.640000, loss: 2.290170, valid accuracy: 0.546667\n",
            "epoch: 4, lr: 0.001000, accuracy: 0.760000, loss: 1.142239, valid accuracy: 0.586667\n",
            "epoch: 5, lr: 0.001000, accuracy: 0.880000, loss: 0.400132, valid accuracy: 0.680000\n",
            "epoch: 6, lr: 0.001000, accuracy: 1.000000, loss: 0.050620, valid accuracy: 0.733333\n",
            "epoch: 7, lr: 0.001000, accuracy: 1.000000, loss: 0.024293, valid accuracy: 0.706667\n",
            "epoch: 8, lr: 0.001000, accuracy: 1.000000, loss: 0.018401, valid accuracy: 0.760000\n",
            "epoch: 9, lr: 0.001000, accuracy: 1.000000, loss: 0.014845, valid accuracy: 0.760000\n",
            "epoch: 10, lr: 0.001000, accuracy: 1.000000, loss: 0.012391, valid accuracy: 0.760000\n",
            "epoch: 11, lr: 0.001000, accuracy: 1.000000, loss: 0.010435, valid accuracy: 0.746667\n",
            "epoch: 12, lr: 0.001000, accuracy: 1.000000, loss: 0.008870, valid accuracy: 0.746667\n",
            "epoch: 13, lr: 0.001000, accuracy: 1.000000, loss: 0.007698, valid accuracy: 0.746667\n",
            "epoch: 14, lr: 0.001000, accuracy: 1.000000, loss: 0.006863, valid accuracy: 0.746667\n",
            "epoch: 15, lr: 0.001000, accuracy: 1.000000, loss: 0.006274, valid accuracy: 0.733333\n",
            "epoch: 16, lr: 0.001000, accuracy: 1.000000, loss: 0.005854, valid accuracy: 0.733333\n",
            "epoch: 17, lr: 0.001000, accuracy: 1.000000, loss: 0.005538, valid accuracy: 0.720000\n",
            "epoch: 18, lr: 0.001000, accuracy: 1.000000, loss: 0.005278, valid accuracy: 0.720000\n",
            "epoch: 19, lr: 0.001000, accuracy: 1.000000, loss: 0.005043, valid accuracy: 0.720000\n",
            "epoch: 0, lr: 0.001000, accuracy: 0.560000, loss: 3.629430, valid accuracy: 0.373333\n",
            "epoch: 1, lr: 0.001000, accuracy: 0.600000, loss: 3.096882, valid accuracy: 0.373333\n",
            "epoch: 2, lr: 0.001000, accuracy: 0.600000, loss: 2.411788, valid accuracy: 0.400000\n",
            "epoch: 3, lr: 0.001000, accuracy: 0.600000, loss: 1.616122, valid accuracy: 0.413333\n",
            "epoch: 4, lr: 0.001000, accuracy: 0.600000, loss: 0.787072, valid accuracy: 0.520000\n",
            "epoch: 5, lr: 0.001000, accuracy: 0.920000, loss: 0.212580, valid accuracy: 0.600000\n",
            "epoch: 6, lr: 0.001000, accuracy: 1.000000, loss: 0.057285, valid accuracy: 0.640000\n",
            "epoch: 7, lr: 0.001000, accuracy: 1.000000, loss: 0.017440, valid accuracy: 0.693333\n",
            "epoch: 8, lr: 0.001000, accuracy: 1.000000, loss: 0.006146, valid accuracy: 0.746667\n",
            "epoch: 9, lr: 0.001000, accuracy: 1.000000, loss: 0.002668, valid accuracy: 0.746667\n",
            "epoch: 10, lr: 0.001000, accuracy: 1.000000, loss: 0.001445, valid accuracy: 0.760000\n",
            "epoch: 11, lr: 0.001000, accuracy: 1.000000, loss: 0.000957, valid accuracy: 0.760000\n",
            "epoch: 12, lr: 0.001000, accuracy: 1.000000, loss: 0.000740, valid accuracy: 0.746667\n",
            "epoch: 13, lr: 0.001000, accuracy: 1.000000, loss: 0.000637, valid accuracy: 0.733333\n",
            "epoch: 14, lr: 0.001000, accuracy: 1.000000, loss: 0.000587, valid accuracy: 0.733333\n",
            "epoch: 15, lr: 0.001000, accuracy: 1.000000, loss: 0.000565, valid accuracy: 0.733333\n",
            "epoch: 16, lr: 0.001000, accuracy: 1.000000, loss: 0.000562, valid accuracy: 0.733333\n",
            "epoch: 17, lr: 0.001000, accuracy: 1.000000, loss: 0.000572, valid accuracy: 0.733333\n",
            "epoch: 18, lr: 0.001000, accuracy: 1.000000, loss: 0.000591, valid accuracy: 0.733333\n",
            "epoch: 19, lr: 0.001000, accuracy: 1.000000, loss: 0.000618, valid accuracy: 0.733333\n",
            "epoch: 0, lr: 0.001000, accuracy: 0.360000, loss: 6.677817, valid accuracy: 0.320000\n",
            "epoch: 1, lr: 0.001000, accuracy: 0.400000, loss: 5.188326, valid accuracy: 0.320000\n",
            "epoch: 2, lr: 0.001000, accuracy: 0.400000, loss: 3.724989, valid accuracy: 0.346667\n",
            "epoch: 3, lr: 0.001000, accuracy: 0.520000, loss: 2.480951, valid accuracy: 0.373333\n",
            "epoch: 4, lr: 0.001000, accuracy: 0.640000, loss: 1.680758, valid accuracy: 0.386667\n",
            "epoch: 5, lr: 0.001000, accuracy: 0.640000, loss: 1.115407, valid accuracy: 0.413333\n",
            "epoch: 6, lr: 0.001000, accuracy: 0.760000, loss: 0.684700, valid accuracy: 0.426667\n",
            "epoch: 7, lr: 0.001000, accuracy: 0.960000, loss: 0.383573, valid accuracy: 0.466667\n",
            "epoch: 8, lr: 0.001000, accuracy: 1.000000, loss: 0.195087, valid accuracy: 0.493333\n",
            "epoch: 9, lr: 0.001000, accuracy: 1.000000, loss: 0.099064, valid accuracy: 0.533333\n",
            "epoch: 10, lr: 0.001000, accuracy: 1.000000, loss: 0.050948, valid accuracy: 0.626667\n",
            "epoch: 11, lr: 0.001000, accuracy: 1.000000, loss: 0.027485, valid accuracy: 0.680000\n",
            "epoch: 12, lr: 0.001000, accuracy: 1.000000, loss: 0.016023, valid accuracy: 0.706667\n",
            "epoch: 13, lr: 0.001000, accuracy: 1.000000, loss: 0.010183, valid accuracy: 0.720000\n",
            "epoch: 14, lr: 0.001000, accuracy: 1.000000, loss: 0.006983, valid accuracy: 0.746667\n",
            "epoch: 15, lr: 0.001000, accuracy: 1.000000, loss: 0.005085, valid accuracy: 0.773333\n",
            "epoch: 16, lr: 0.001000, accuracy: 1.000000, loss: 0.003889, valid accuracy: 0.786667\n",
            "epoch: 17, lr: 0.001000, accuracy: 1.000000, loss: 0.003094, valid accuracy: 0.786667\n",
            "epoch: 18, lr: 0.001000, accuracy: 1.000000, loss: 0.002546, valid accuracy: 0.773333\n",
            "epoch: 19, lr: 0.001000, accuracy: 1.000000, loss: 0.002154, valid accuracy: 0.813333\n",
            "[INFO] Total training time: 39.170 seconds\n"
          ]
        }
      ]
    },
    {
      "cell_type": "markdown",
      "source": [
        "### 10 VGG model"
      ],
      "metadata": {
        "id": "GpasKcf7p7hL"
      }
    },
    {
      "cell_type": "code",
      "source": [
        "# collecting the default weights\n",
        "weights_vgg = torchvision.models.VGG16_Weights.DEFAULT\n",
        "\n",
        "# Get the transforms used to create our pretrained weights\n",
        "auto_transforms_vgg = weights.transforms()\n",
        "\n",
        "#Splitting data in to train, test and validation\n",
        "data_path = Path(\"data/\")\n",
        "image_path = data_path / \"mini_image_net\"\n",
        "originalDataset = torchvision.datasets.ImageFolder(image_path/ \"train\", transform = auto_transforms_vgg)\n",
        "random_gen = torch.Generator().manual_seed(42)\n",
        "test_data, train_data, val_data = torch.utils.data.random_split(originalDataset, [0.8, 0.1, 0.1] , generator=random_gen)\n",
        "\n",
        "#getting classess\n",
        "class_names = originalDataset.classes\n",
        "\n",
        "# Create training, testing and validation DataLoaders\n",
        "train_dataloader, test_dataloader,valid_dataloader = create_dataloaders(train_data,\n",
        "                                                                        test_data,\n",
        "                                                                        val_data,\n",
        "                                                                        transform=auto_transforms_vgg, # perform same data transforms on our own data as the pretrained model\n",
        "                                                                        batch_size=32) # set mini-batch size to 32\n",
        "#Import the model\n",
        "\n",
        "model_vgg16 = torchvision.models.vgg16(weights_vgg, progress = True)\n",
        "\n",
        "#Freezing parameters\n",
        "for param in model_vgg16.parameters():\n",
        "    param.requires_grad = False\n",
        "\n",
        "output_shape = len(originalDataset.classes)\n",
        "\n",
        "# Set the manual seeds\n",
        "torch.manual_seed(42)\n",
        "torch.cuda.manual_seed(42)\n",
        "\n",
        "# Recreate the fc layer and seed it to the target device\n",
        "# model_vgg16.classifier = torch.nn.Linear(in_features=4096,\n",
        "#                            out_features=output_shape, # same number of output units as our number of classes\n",
        "#                            bias=True).to(device)\n",
        "# Modify the last fully connected layer\n",
        "model_vgg16.classifier[-1] = torch.nn.Linear(in_features=4096,  # Assuming the default in_features for VGG16\n",
        "                                              out_features=output_shape,\n",
        "                                              bias=True).to(device)\n",
        ""
      ],
      "metadata": {
        "id": "GZPLBVDmp5NA",
        "outputId": "9a19a5c9-b78f-4d5f-fc96-59702521b154",
        "colab": {
          "base_uri": "https://localhost:8080/"
        }
      },
      "execution_count": 90,
      "outputs": [
        {
          "output_type": "stream",
          "name": "stderr",
          "text": [
            "/usr/local/lib/python3.10/dist-packages/torchvision/models/_utils.py:135: UserWarning: Using 'weights' as positional parameter(s) is deprecated since 0.13 and may be removed in the future. Please use keyword parameter(s) instead.\n",
            "  warnings.warn(\n"
          ]
        }
      ]
    },
    {
      "cell_type": "code",
      "source": [
        "# Define loss and optimizer\n",
        "loss_function = nn.CrossEntropyLoss()\n",
        "optimizer = torch.optim.Adam(model.parameters(), lr=0.001)\n",
        "\n",
        "# Start the timer\n",
        "from timeit import default_timer as timer\n",
        "start_time = timer()\n",
        "epoches = 10\n",
        "\n",
        "train_val_results = train(model_vgg16, train_dataloader, valid_dataloader, loss_function, optimizer, epoches)\n",
        "acc_test,loss_test = eval(model_vgg16, test_dataloader)\n",
        "\n",
        "print('accuracy on testing data: %f' % acc_test) #  a reference output is provided below:\n",
        "\n",
        "# End the timer and print out how long it took\n",
        "end_time = timer()\n",
        "print(f\"[INFO] Total training time: {end_time-start_time:.3f} seconds\")"
      ],
      "metadata": {
        "id": "kLj0MAeQv_tj",
        "outputId": "16accc34-866c-48aa-eef1-5f47daceb551",
        "colab": {
          "base_uri": "https://localhost:8080/"
        }
      },
      "execution_count": 95,
      "outputs": [
        {
          "output_type": "stream",
          "name": "stdout",
          "text": [
            "epoch: 0, lr: 0.001000, accuracy: 0.019010, loss: 4.335286, valid accuracy: 0.019531\n",
            "epoch: 1, lr: 0.001000, accuracy: 0.016927, loss: 4.328061, valid accuracy: 0.019531\n",
            "epoch: 2, lr: 0.001000, accuracy: 0.018229, loss: 4.238636, valid accuracy: 0.019531\n",
            "epoch: 3, lr: 0.001000, accuracy: 0.018490, loss: 4.231956, valid accuracy: 0.019531\n",
            "epoch: 4, lr: 0.001000, accuracy: 0.014844, loss: 4.141931, valid accuracy: 0.019531\n",
            "epoch: 5, lr: 0.001000, accuracy: 0.017708, loss: 4.276212, valid accuracy: 0.019531\n",
            "epoch: 6, lr: 0.001000, accuracy: 0.017708, loss: 4.288952, valid accuracy: 0.019531\n",
            "epoch: 7, lr: 0.001000, accuracy: 0.019010, loss: 4.131316, valid accuracy: 0.019531\n",
            "epoch: 8, lr: 0.001000, accuracy: 0.019531, loss: 4.206927, valid accuracy: 0.019531\n",
            "epoch: 9, lr: 0.001000, accuracy: 0.020052, loss: 4.285123, valid accuracy: 0.019531\n",
            "accuracy on testing data: 0.020475\n",
            "[INFO] Total training time: 536.327 seconds\n"
          ]
        }
      ]
    }
  ],
  "metadata": {
    "accelerator": "GPU",
    "colab": {
      "provenance": [],
      "gpuType": "T4",
      "include_colab_link": true
    },
    "kernelspec": {
      "display_name": "Python 3",
      "name": "python3"
    },
    "language_info": {
      "name": "python"
    }
  },
  "nbformat": 4,
  "nbformat_minor": 0
}